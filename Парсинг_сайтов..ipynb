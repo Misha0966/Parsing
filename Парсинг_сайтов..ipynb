{
  "nbformat": 4,
  "nbformat_minor": 0,
  "metadata": {
    "colab": {
      "provenance": []
    },
    "kernelspec": {
      "name": "python3",
      "display_name": "Python 3"
    },
    "language_info": {
      "name": "python"
    }
  },
  "cells": [
    {
      "cell_type": "code",
      "execution_count": 7,
      "metadata": {
        "colab": {
          "base_uri": "https://localhost:8080/"
        },
        "id": "xLvy7v8NDSuZ",
        "outputId": "70222255-fdd6-4b80-a4ef-66ca5d8fd6b8"
      },
      "outputs": [
        {
          "output_type": "stream",
          "name": "stdout",
          "text": [
            "Requirement already satisfied: requests in /usr/local/lib/python3.10/dist-packages (2.31.0)\n",
            "Requirement already satisfied: charset-normalizer<4,>=2 in /usr/local/lib/python3.10/dist-packages (from requests) (3.3.2)\n",
            "Requirement already satisfied: idna<4,>=2.5 in /usr/local/lib/python3.10/dist-packages (from requests) (3.6)\n",
            "Requirement already satisfied: urllib3<3,>=1.21.1 in /usr/local/lib/python3.10/dist-packages (from requests) (2.0.7)\n",
            "Requirement already satisfied: certifi>=2017.4.17 in /usr/local/lib/python3.10/dist-packages (from requests) (2024.2.2)\n",
            "Requirement already satisfied: beautifulsoup4 in /usr/local/lib/python3.10/dist-packages (4.12.3)\n",
            "Requirement already satisfied: soupsieve>1.2 in /usr/local/lib/python3.10/dist-packages (from beautifulsoup4) (2.5)\n",
            "Requirement already satisfied: pandas in /usr/local/lib/python3.10/dist-packages (1.5.3)\n",
            "Requirement already satisfied: python-dateutil>=2.8.1 in /usr/local/lib/python3.10/dist-packages (from pandas) (2.8.2)\n",
            "Requirement already satisfied: pytz>=2020.1 in /usr/local/lib/python3.10/dist-packages (from pandas) (2023.4)\n",
            "Requirement already satisfied: numpy>=1.21.0 in /usr/local/lib/python3.10/dist-packages (from pandas) (1.25.2)\n",
            "Requirement already satisfied: six>=1.5 in /usr/local/lib/python3.10/dist-packages (from python-dateutil>=2.8.1->pandas) (1.16.0)\n",
            "Requirement already satisfied: datetime in /usr/local/lib/python3.10/dist-packages (5.4)\n",
            "Requirement already satisfied: zope.interface in /usr/local/lib/python3.10/dist-packages (from datetime) (6.2)\n",
            "Requirement already satisfied: pytz in /usr/local/lib/python3.10/dist-packages (from datetime) (2023.4)\n",
            "Requirement already satisfied: setuptools in /usr/local/lib/python3.10/dist-packages (from zope.interface->datetime) (67.7.2)\n"
          ]
        }
      ],
      "source": [
        "# загрузка необходимых библиотек\n",
        "!pip install requests\n",
        "!pip install beautifulsoup4\n",
        "!pip install pandas\n",
        "!pip install datetime"
      ]
    },
    {
      "cell_type": "code",
      "source": [
        "# Импорт необходимых библиотек\n",
        "import requests\n",
        "from bs4 import BeautifulSoup\n",
        "import pandas as pd\n",
        "import re\n",
        "import datetime"
      ],
      "metadata": {
        "id": "z85kh3xcFSYP"
      },
      "execution_count": 8,
      "outputs": []
    },
    {
      "cell_type": "code",
      "source": [
        "def get(url):\n",
        "    resp = requests.get(url)\n",
        "    resp.raise_for_status()\n",
        "    return resp\n",
        "\n",
        "def scrape_website(html):\n",
        "    soup = BeautifulSoup(html, 'html.parser')\n",
        "\n",
        "    links = [link.text for link in soup.find_all('a')]\n",
        "    images = [image.get('src') for image in soup.find_all('img')]\n",
        "    scripts = [script.text for script in soup.find_all('script')]\n",
        "    styles = [style.get('href') for style in soup.find_all('link')]\n",
        "\n",
        "    # Используем множество для хранения уникальных IP-адресов\n",
        "    ips_set = set(re.findall(r'\\d{1,3}\\.\\d{1,3}\\.\\d{1,3}\\.\\d{1,3}', html))\n",
        "    ips = list(ips_set)\n",
        "\n",
        "    max_length = max(len(links), len(images), len(scripts), len(styles), len(ips))\n",
        "\n",
        "    # Заполняем массивы до максимальной длины значениями None\n",
        "    links += [None] * (max_length - len(links))\n",
        "    images += [None] * (max_length - len(images))\n",
        "    scripts += [None] * (max_length - len(scripts))\n",
        "    styles += [None] * (max_length - len(styles))\n",
        "    ips += [None] * (max_length - len(ips))\n",
        "\n",
        "    # Создаем датасет\n",
        "    data = {'link': links, 'image': images, 'script': scripts, 'style': styles, 'ip': ips}\n",
        "    df = pd.DataFrame(data)\n",
        "\n",
        "    return df\n",
        "\n",
        "while True:\n",
        "    url = input(\"Введите URL сайта для парсинга (или введите 'exit' для завершения): \")\n",
        "\n",
        "    if url.lower() == 'exit':\n",
        "        print(\"Программа завершена.\")\n",
        "        break\n",
        "\n",
        "    response = get(url)\n",
        "    html = response.text\n",
        "\n",
        "    df = scrape_website(html)\n",
        "\n",
        "    current_time = datetime.datetime.now().strftime(\"%Y-%m-%d_%H-%M-%S\")\n",
        "    file_name = f\"website_data_{current_time}.csv\"\n",
        "\n",
        "    df.to_csv(file_name, index=True)\n",
        "\n",
        "    print(f\"Данные о ссылках, изображениях, скриптах, стилях и уникальных IP-адресах сохранены в файл {file_name}\\n\")"
      ],
      "metadata": {
        "colab": {
          "base_uri": "https://localhost:8080/"
        },
        "id": "8V_xvFaBEDX8",
        "outputId": "82a3e648-4957-44b6-8961-8ad74959e5eb"
      },
      "execution_count": 10,
      "outputs": [
        {
          "output_type": "stream",
          "name": "stdout",
          "text": [
            "Введите URL сайта для парсинга (или введите 'exit' для завершения): exit\n",
            "Программа завершена.\n"
          ]
        }
      ]
    }
  ]
}